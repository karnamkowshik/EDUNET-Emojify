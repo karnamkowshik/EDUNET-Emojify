{
 "cells": [
  {
   "cell_type": "code",
   "execution_count": 1,
   "id": "59971ca5",
   "metadata": {
    "pycharm": {
     "name": "#%%\n"
    }
   },
   "outputs": [
    {
     "name": "stdout",
     "output_type": "stream",
     "text": [
      "WARNING:tensorflow:From C:\\jupyter\\New folder\\Lib\\site-packages\\keras\\src\\losses.py:2976: The name tf.losses.sparse_softmax_cross_entropy is deprecated. Please use tf.compat.v1.losses.sparse_softmax_cross_entropy instead.\n",
      "\n"
     ]
    }
   ],
   "source": [
    "# Importing Required Libraries\n",
    "\n",
    "import numpy as np\n",
    "import cv2\n",
    "import matplotlib.pyplot as plt\n",
    "from tensorflow.keras.models import Sequential\n",
    "from tensorflow.keras.layers import Dense, Dropout, Flatten\n",
    "from tensorflow.keras.layers import Conv2D\n",
    "from tensorflow.keras.layers import MaxPooling2D\n",
    "from tensorflow.keras.optimizers import Adam\n",
    "from tensorflow.keras.preprocessing.image import ImageDataGenerator"
   ]
  },
  {
   "cell_type": "code",
   "execution_count": 2,
   "id": "2b9dee5d",
   "metadata": {
    "pycharm": {
     "name": "#%%\n"
    }
   },
   "outputs": [
    {
     "name": "stdout",
     "output_type": "stream",
     "text": [
      "Found 28709 images belonging to 7 classes.\n",
      "Found 7178 images belonging to 7 classes.\n"
     ]
    }
   ],
   "source": [
    "# Initialize the training and validation generators\n",
    "\n",
    "train_dir = 'data/train'\n",
    "test_dir = 'data/test'\n",
    "train_datagenerator = ImageDataGenerator(rescale=1./255)\n",
    "test_datagenerator = ImageDataGenerator(rescale=1./255)\n",
    "\n",
    "train_generator = train_datagenerator.flow_from_directory(\n",
    "        train_dir,\n",
    "        target_size=(48,48),\n",
    "        batch_size=64,\n",
    "        color_mode=\"grayscale\",\n",
    "        class_mode='categorical')\n",
    "\n",
    "test_generator = test_datagenerator.flow_from_directory(\n",
    "        test_dir,\n",
    "        target_size=(48,48),\n",
    "        batch_size=64,\n",
    "        color_mode=\"grayscale\",\n",
    "        class_mode='categorical')"
   ]
  },
  {
   "cell_type": "code",
   "execution_count": 3,
   "id": "a264a9ed",
   "metadata": {
    "pycharm": {
     "name": "#%%\n"
    }
   },
   "outputs": [
    {
     "name": "stdout",
     "output_type": "stream",
     "text": [
      "WARNING:tensorflow:From C:\\jupyter\\New folder\\Lib\\site-packages\\keras\\src\\backend.py:873: The name tf.get_default_graph is deprecated. Please use tf.compat.v1.get_default_graph instead.\n",
      "\n",
      "WARNING:tensorflow:From C:\\jupyter\\New folder\\Lib\\site-packages\\keras\\src\\layers\\pooling\\max_pooling2d.py:161: The name tf.nn.max_pool is deprecated. Please use tf.nn.max_pool2d instead.\n",
      "\n"
     ]
    }
   ],
   "source": [
    "# Building the CNN architecture\n",
    "# with four conv2D layers, two dense layers and one flatten layer\n",
    "\n",
    "recognition_model = Sequential()\n",
    "\n",
    "recognition_model.add(Conv2D(32, kernel_size=(3, 3), activation='relu', input_shape=(48,48,1)))\n",
    "recognition_model.add(Conv2D(64, kernel_size=(3, 3), activation='relu'))\n",
    "recognition_model.add(MaxPooling2D(pool_size=(2, 2)))\n",
    "recognition_model.add(Dropout(0.25))\n",
    "\n",
    "recognition_model.add(Conv2D(128, kernel_size=(3, 3), activation='relu'))\n",
    "recognition_model.add(MaxPooling2D(pool_size=(2, 2)))\n",
    "recognition_model.add(Conv2D(128, kernel_size=(3, 3), activation='relu'))\n",
    "recognition_model.add(MaxPooling2D(pool_size=(2, 2)))\n",
    "recognition_model.add(Dropout(0.25))\n",
    "\n",
    "recognition_model.add(Flatten())\n",
    "recognition_model.add(Dense(1024, activation='relu'))\n",
    "recognition_model.add(Dropout(0.5))\n",
    "recognition_model.add(Dense(7, activation='softmax'))"
   ]
  },
  {
   "cell_type": "code",
   "execution_count": 4,
   "id": "bab66114",
   "metadata": {},
   "outputs": [
    {
     "name": "stdout",
     "output_type": "stream",
     "text": [
      "Model: \"sequential\"\n",
      "_________________________________________________________________\n",
      " Layer (type)                Output Shape              Param #   \n",
      "=================================================================\n",
      " conv2d (Conv2D)             (None, 46, 46, 32)        320       \n",
      "                                                                 \n",
      " conv2d_1 (Conv2D)           (None, 44, 44, 64)        18496     \n",
      "                                                                 \n",
      " max_pooling2d (MaxPooling2  (None, 22, 22, 64)        0         \n",
      " D)                                                              \n",
      "                                                                 \n",
      " dropout (Dropout)           (None, 22, 22, 64)        0         \n",
      "                                                                 \n",
      " conv2d_2 (Conv2D)           (None, 20, 20, 128)       73856     \n",
      "                                                                 \n",
      " max_pooling2d_1 (MaxPoolin  (None, 10, 10, 128)       0         \n",
      " g2D)                                                            \n",
      "                                                                 \n",
      " conv2d_3 (Conv2D)           (None, 8, 8, 128)         147584    \n",
      "                                                                 \n",
      " max_pooling2d_2 (MaxPoolin  (None, 4, 4, 128)         0         \n",
      " g2D)                                                            \n",
      "                                                                 \n",
      " dropout_1 (Dropout)         (None, 4, 4, 128)         0         \n",
      "                                                                 \n",
      " flatten (Flatten)           (None, 2048)              0         \n",
      "                                                                 \n",
      " dense (Dense)               (None, 1024)              2098176   \n",
      "                                                                 \n",
      " dropout_2 (Dropout)         (None, 1024)              0         \n",
      "                                                                 \n",
      " dense_1 (Dense)             (None, 7)                 7175      \n",
      "                                                                 \n",
      "=================================================================\n",
      "Total params: 2345607 (8.95 MB)\n",
      "Trainable params: 2345607 (8.95 MB)\n",
      "Non-trainable params: 0 (0.00 Byte)\n",
      "_________________________________________________________________\n"
     ]
    }
   ],
   "source": [
    "# Getting Model Summary\n",
    "\n",
    "recognition_model.summary()"
   ]
  },
  {
   "cell_type": "code",
   "execution_count": 5,
   "id": "0a3c30e6",
   "metadata": {
    "pycharm": {
     "name": "#%%\n"
    }
   },
   "outputs": [],
   "source": [
    "# Disable OpenCL\n",
    "\n",
    "cv2.ocl.setUseOpenCL(False)"
   ]
  },
  {
   "cell_type": "code",
   "execution_count": 6,
   "id": "080a4c4e",
   "metadata": {},
   "outputs": [],
   "source": [
    "import tensorflow as tf\n",
    "\n",
    "optimizer = tf.keras.optimizers.legacy.Adam(learning_rate=0.001, decay=1e-6)\n"
   ]
  },
  {
   "cell_type": "code",
   "execution_count": 7,
   "id": "a9ec91b7",
   "metadata": {},
   "outputs": [],
   "source": [
    "import tensorflow as tf\n",
    "\n",
    "# Define your model\n",
    "model = tf.keras.Sequential([\n",
    "    tf.keras.layers.Dense(128, activation='relu', input_shape=(784,)),\n",
    "    tf.keras.layers.Dropout(0.2),\n",
    "    tf.keras.layers.Dense(10, activation='softmax')\n",
    "])\n",
    "\n",
    "# Define your optimizer with learning rate and learning rate decay\n",
    "initial_learning_rate = 0.01\n",
    "lr_schedule = tf.keras.optimizers.schedules.ExponentialDecay(\n",
    "    initial_learning_rate,\n",
    "    decay_steps=10000,\n",
    "    decay_rate=0.96,\n",
    "    staircase=True)\n",
    "\n",
    "optimizer = tf.keras.optimizers.Adam(learning_rate=lr_schedule)\n",
    "\n",
    "# Compile the model\n",
    "model.compile(optimizer=optimizer,\n",
    "              loss='sparse_categorical_crossentropy',\n",
    "              metrics=['accuracy'])\n",
    "\n"
   ]
  },
  {
   "cell_type": "code",
   "execution_count": 10,
   "id": "0be16edc",
   "metadata": {
    "pycharm": {
     "name": "#%%\n"
    }
   },
   "outputs": [],
   "source": [
    "# Compile Model\n",
    "\n",
    "recognition_model.compile(loss='categorical_crossentropy',optimizer = tf.keras.optimizers.legacy.Adam(learning_rate=0.001, decay=1e-6),metrics=['accuracy'])"
   ]
  },
  {
   "cell_type": "code",
   "execution_count": 11,
   "id": "d870bdaf",
   "metadata": {
    "pycharm": {
     "name": "#%%\n"
    }
   },
   "outputs": [
    {
     "name": "stdout",
     "output_type": "stream",
     "text": [
      "Epoch 1/60\n",
      "WARNING:tensorflow:From C:\\jupyter\\New folder\\Lib\\site-packages\\keras\\src\\utils\\tf_utils.py:492: The name tf.ragged.RaggedTensorValue is deprecated. Please use tf.compat.v1.ragged.RaggedTensorValue instead.\n",
      "\n",
      "WARNING:tensorflow:From C:\\jupyter\\New folder\\Lib\\site-packages\\keras\\src\\engine\\base_layer_utils.py:384: The name tf.executing_eagerly_outside_functions is deprecated. Please use tf.compat.v1.executing_eagerly_outside_functions instead.\n",
      "\n",
      "448/448 [==============================] - 171s 375ms/step - loss: 1.7156 - accuracy: 0.3049 - val_loss: 1.5078 - val_accuracy: 0.4240\n",
      "Epoch 2/60\n",
      "448/448 [==============================] - 167s 372ms/step - loss: 1.4214 - accuracy: 0.4509 - val_loss: 1.3046 - val_accuracy: 0.4927\n",
      "Epoch 3/60\n",
      "448/448 [==============================] - 158s 352ms/step - loss: 1.2703 - accuracy: 0.5138 - val_loss: 1.1921 - val_accuracy: 0.5428\n",
      "Epoch 4/60\n",
      "448/448 [==============================] - 158s 352ms/step - loss: 1.1866 - accuracy: 0.5501 - val_loss: 1.1492 - val_accuracy: 0.5654\n",
      "Epoch 5/60\n",
      "448/448 [==============================] - 159s 354ms/step - loss: 1.1262 - accuracy: 0.5710 - val_loss: 1.1149 - val_accuracy: 0.5797\n",
      "Epoch 6/60\n",
      "448/448 [==============================] - 163s 364ms/step - loss: 1.0678 - accuracy: 0.5971 - val_loss: 1.0970 - val_accuracy: 0.5799\n",
      "Epoch 7/60\n",
      "448/448 [==============================] - 158s 352ms/step - loss: 1.0261 - accuracy: 0.6127 - val_loss: 1.0755 - val_accuracy: 0.5929\n",
      "Epoch 8/60\n",
      "448/448 [==============================] - 162s 360ms/step - loss: 0.9807 - accuracy: 0.6302 - val_loss: 1.0528 - val_accuracy: 0.6080\n",
      "Epoch 9/60\n",
      "448/448 [==============================] - 160s 356ms/step - loss: 0.9350 - accuracy: 0.6503 - val_loss: 1.0489 - val_accuracy: 0.6099\n",
      "Epoch 10/60\n",
      "448/448 [==============================] - 158s 352ms/step - loss: 0.8931 - accuracy: 0.6677 - val_loss: 1.0392 - val_accuracy: 0.6148\n",
      "Epoch 11/60\n",
      "448/448 [==============================] - 156s 349ms/step - loss: 0.8591 - accuracy: 0.6804 - val_loss: 1.0430 - val_accuracy: 0.6177\n",
      "Epoch 12/60\n",
      "448/448 [==============================] - 161s 358ms/step - loss: 0.8187 - accuracy: 0.6913 - val_loss: 1.0511 - val_accuracy: 0.6164\n",
      "Epoch 13/60\n",
      "448/448 [==============================] - 158s 353ms/step - loss: 0.7861 - accuracy: 0.7067 - val_loss: 1.0633 - val_accuracy: 0.6161\n",
      "Epoch 14/60\n",
      "448/448 [==============================] - 157s 350ms/step - loss: 0.7489 - accuracy: 0.7217 - val_loss: 1.0501 - val_accuracy: 0.6223\n",
      "Epoch 15/60\n",
      "448/448 [==============================] - 157s 349ms/step - loss: 0.7158 - accuracy: 0.7334 - val_loss: 1.0517 - val_accuracy: 0.6263\n",
      "Epoch 16/60\n",
      "448/448 [==============================] - 100s 223ms/step - loss: 0.6866 - accuracy: 0.7486 - val_loss: 1.0979 - val_accuracy: 0.6240\n",
      "Epoch 17/60\n",
      "448/448 [==============================] - 88s 196ms/step - loss: 0.6642 - accuracy: 0.7537 - val_loss: 1.0731 - val_accuracy: 0.6225\n",
      "Epoch 18/60\n",
      "448/448 [==============================] - 95s 212ms/step - loss: 0.6294 - accuracy: 0.7658 - val_loss: 1.0814 - val_accuracy: 0.6261\n",
      "Epoch 19/60\n",
      "448/448 [==============================] - 93s 208ms/step - loss: 0.6096 - accuracy: 0.7758 - val_loss: 1.1293 - val_accuracy: 0.6230\n",
      "Epoch 20/60\n",
      "448/448 [==============================] - 95s 212ms/step - loss: 0.5904 - accuracy: 0.7817 - val_loss: 1.1261 - val_accuracy: 0.6212\n",
      "Epoch 21/60\n",
      "448/448 [==============================] - 93s 208ms/step - loss: 0.5664 - accuracy: 0.7916 - val_loss: 1.1028 - val_accuracy: 0.6296\n",
      "Epoch 22/60\n",
      "448/448 [==============================] - 93s 207ms/step - loss: 0.5508 - accuracy: 0.7977 - val_loss: 1.0945 - val_accuracy: 0.6267\n",
      "Epoch 23/60\n",
      "448/448 [==============================] - 95s 212ms/step - loss: 0.5265 - accuracy: 0.8035 - val_loss: 1.1451 - val_accuracy: 0.6212\n",
      "Epoch 24/60\n",
      "448/448 [==============================] - 95s 211ms/step - loss: 0.5171 - accuracy: 0.8089 - val_loss: 1.1354 - val_accuracy: 0.6302\n",
      "Epoch 25/60\n",
      "448/448 [==============================] - 94s 210ms/step - loss: 0.5071 - accuracy: 0.8160 - val_loss: 1.1518 - val_accuracy: 0.6300\n",
      "Epoch 26/60\n",
      "448/448 [==============================] - 95s 211ms/step - loss: 0.4927 - accuracy: 0.8186 - val_loss: 1.1723 - val_accuracy: 0.6247\n",
      "Epoch 27/60\n",
      "448/448 [==============================] - 91s 203ms/step - loss: 0.4902 - accuracy: 0.8197 - val_loss: 1.1568 - val_accuracy: 0.6257\n",
      "Epoch 28/60\n",
      "448/448 [==============================] - 93s 207ms/step - loss: 0.4604 - accuracy: 0.8315 - val_loss: 1.1846 - val_accuracy: 0.6221\n",
      "Epoch 29/60\n",
      "448/448 [==============================] - 99s 221ms/step - loss: 0.4623 - accuracy: 0.8309 - val_loss: 1.1972 - val_accuracy: 0.6364\n",
      "Epoch 30/60\n",
      "448/448 [==============================] - 91s 202ms/step - loss: 0.4463 - accuracy: 0.8371 - val_loss: 1.1890 - val_accuracy: 0.6336\n",
      "Epoch 31/60\n",
      "448/448 [==============================] - 94s 210ms/step - loss: 0.4409 - accuracy: 0.8413 - val_loss: 1.1993 - val_accuracy: 0.6288\n",
      "Epoch 32/60\n",
      "448/448 [==============================] - 97s 217ms/step - loss: 0.4306 - accuracy: 0.8451 - val_loss: 1.2339 - val_accuracy: 0.6272\n",
      "Epoch 33/60\n",
      "448/448 [==============================] - 97s 218ms/step - loss: 0.4149 - accuracy: 0.8516 - val_loss: 1.2570 - val_accuracy: 0.6295\n",
      "Epoch 34/60\n",
      "448/448 [==============================] - 104s 233ms/step - loss: 0.4143 - accuracy: 0.8492 - val_loss: 1.2299 - val_accuracy: 0.6271\n",
      "Epoch 35/60\n",
      "448/448 [==============================] - 96s 215ms/step - loss: 0.4130 - accuracy: 0.8520 - val_loss: 1.2482 - val_accuracy: 0.6240\n",
      "Epoch 36/60\n",
      "448/448 [==============================] - 95s 212ms/step - loss: 0.4069 - accuracy: 0.8517 - val_loss: 1.2239 - val_accuracy: 0.6343\n",
      "Epoch 37/60\n",
      "448/448 [==============================] - 93s 207ms/step - loss: 0.3939 - accuracy: 0.8604 - val_loss: 1.2473 - val_accuracy: 0.6281\n",
      "Epoch 38/60\n",
      "448/448 [==============================] - 95s 212ms/step - loss: 0.3827 - accuracy: 0.8616 - val_loss: 1.2471 - val_accuracy: 0.6290\n",
      "Epoch 39/60\n",
      "448/448 [==============================] - 94s 209ms/step - loss: 0.3805 - accuracy: 0.8619 - val_loss: 1.2387 - val_accuracy: 0.6257\n",
      "Epoch 40/60\n",
      "448/448 [==============================] - 94s 209ms/step - loss: 0.3638 - accuracy: 0.8675 - val_loss: 1.2541 - val_accuracy: 0.6316\n",
      "Epoch 41/60\n",
      "448/448 [==============================] - 94s 211ms/step - loss: 0.3671 - accuracy: 0.8689 - val_loss: 1.2525 - val_accuracy: 0.6310\n",
      "Epoch 42/60\n",
      "448/448 [==============================] - 93s 208ms/step - loss: 0.3592 - accuracy: 0.8728 - val_loss: 1.2503 - val_accuracy: 0.6272\n",
      "Epoch 43/60\n",
      "448/448 [==============================] - 93s 208ms/step - loss: 0.3614 - accuracy: 0.8702 - val_loss: 1.2317 - val_accuracy: 0.6260\n",
      "Epoch 44/60\n",
      "448/448 [==============================] - 93s 209ms/step - loss: 0.3668 - accuracy: 0.8705 - val_loss: 1.2562 - val_accuracy: 0.6349\n",
      "Epoch 45/60\n",
      "448/448 [==============================] - 93s 208ms/step - loss: 0.3464 - accuracy: 0.8765 - val_loss: 1.3215 - val_accuracy: 0.6286\n",
      "Epoch 46/60\n",
      "448/448 [==============================] - 94s 209ms/step - loss: 0.3347 - accuracy: 0.8826 - val_loss: 1.2938 - val_accuracy: 0.6310\n",
      "Epoch 47/60\n",
      "448/448 [==============================] - 94s 209ms/step - loss: 0.3325 - accuracy: 0.8802 - val_loss: 1.3114 - val_accuracy: 0.6239\n",
      "Epoch 48/60\n",
      "448/448 [==============================] - 93s 207ms/step - loss: 0.3336 - accuracy: 0.8807 - val_loss: 1.3075 - val_accuracy: 0.6323\n",
      "Epoch 49/60\n",
      "448/448 [==============================] - 95s 213ms/step - loss: 0.3379 - accuracy: 0.8803 - val_loss: 1.2954 - val_accuracy: 0.6270\n",
      "Epoch 50/60\n",
      "448/448 [==============================] - 98s 219ms/step - loss: 0.3164 - accuracy: 0.8870 - val_loss: 1.2839 - val_accuracy: 0.6367\n",
      "Epoch 51/60\n",
      "448/448 [==============================] - 97s 217ms/step - loss: 0.3167 - accuracy: 0.8864 - val_loss: 1.3307 - val_accuracy: 0.6239\n",
      "Epoch 52/60\n",
      "448/448 [==============================] - 96s 213ms/step - loss: 0.3155 - accuracy: 0.8909 - val_loss: 1.3313 - val_accuracy: 0.6267\n",
      "Epoch 53/60\n",
      "448/448 [==============================] - 95s 211ms/step - loss: 0.3212 - accuracy: 0.8869 - val_loss: 1.3260 - val_accuracy: 0.6272\n"
     ]
    },
    {
     "name": "stdout",
     "output_type": "stream",
     "text": [
      "Epoch 54/60\n",
      "448/448 [==============================] - 93s 208ms/step - loss: 0.3205 - accuracy: 0.8892 - val_loss: 1.3339 - val_accuracy: 0.6336\n",
      "Epoch 55/60\n",
      "448/448 [==============================] - 93s 208ms/step - loss: 0.3139 - accuracy: 0.8891 - val_loss: 1.3310 - val_accuracy: 0.6314\n",
      "Epoch 56/60\n",
      "448/448 [==============================] - 93s 208ms/step - loss: 0.3046 - accuracy: 0.8945 - val_loss: 1.3687 - val_accuracy: 0.6267\n",
      "Epoch 57/60\n",
      "448/448 [==============================] - 105s 235ms/step - loss: 0.3102 - accuracy: 0.8924 - val_loss: 1.3355 - val_accuracy: 0.6253\n",
      "Epoch 58/60\n",
      "448/448 [==============================] - 95s 213ms/step - loss: 0.2953 - accuracy: 0.8943 - val_loss: 1.3260 - val_accuracy: 0.6257\n",
      "Epoch 59/60\n",
      "448/448 [==============================] - 92s 206ms/step - loss: 0.3060 - accuracy: 0.8923 - val_loss: 1.3509 - val_accuracy: 0.6370\n",
      "Epoch 60/60\n",
      "448/448 [==============================] - 93s 207ms/step - loss: 0.2975 - accuracy: 0.8971 - val_loss: 1.3596 - val_accuracy: 0.6311\n"
     ]
    }
   ],
   "source": [
    "# Train the model\n",
    "\n",
    "recognition_model_info = recognition_model.fit(\n",
    "        train_generator,\n",
    "        steps_per_epoch=28709 // 64,\n",
    "        epochs=60,\n",
    "        validation_data=test_generator,\n",
    "        validation_steps=7178 // 64)"
   ]
  },
  {
   "cell_type": "code",
   "execution_count": 12,
   "id": "197e09d4",
   "metadata": {},
   "outputs": [],
   "source": [
    "# Saving the trained Model Weights\n",
    "\n",
    "recognition_model.save_weights('recognition_model.h5')"
   ]
  },
  {
   "cell_type": "code",
   "execution_count": 13,
   "id": "73855370",
   "metadata": {},
   "outputs": [
    {
     "data": {
      "image/png": "[encoded data removed]",
      "text/plain": [
       "<Figure size 640x480 with 1 Axes>"
      ]
     },
     "metadata": {},
     "output_type": "display_data"
    },
    {
     "data": {
      "image/png": "[encoded data removed]",
      "text/plain": [
       "<Figure size 640x480 with 1 Axes>"
      ]
     },
     "metadata": {},
     "output_type": "display_data"
    }
   ],
   "source": [
    "# Summarize history for accuracy\n",
    "\n",
    "plt.title('Model Accuracy')\n",
    "plt.plot(recognition_model_info.history['accuracy'])\n",
    "plt.plot(recognition_model_info.history['val_accuracy'])\n",
    "plt.ylabel('accuracy')\n",
    "plt.xlabel('epoch')\n",
    "plt.legend(['train', 'test'], loc='upper left')\n",
    "plt.show()\n",
    "\n",
    "# Summarize history for loss\n",
    "\n",
    "plt.title('Model Loss')\n",
    "plt.plot(recognition_model_info.history['loss'])\n",
    "plt.plot(recognition_model_info.history['val_loss'])\n",
    "plt.ylabel('loss')\n",
    "plt.xlabel('epoch')\n",
    "plt.legend(['train', 'test'], loc='upper left')\n",
    "plt.show()"
   ]
  },
  {
   "cell_type": "code",
   "execution_count": 14,
   "id": "53d2eff6",
   "metadata": {
    "pycharm": {
     "name": "#%%\n"
    }
   },
   "outputs": [],
   "source": [
    "# Facial emotion Dictonary with values\n",
    "\n",
    "facial_dict = {0: \"Angry\", 1: \"Disgusted\", 2: \"Fearful\", 3: \"Happy\", 4: \"Neutral\", 5: \"Sad\", 6: \"Surprised\"}"
   ]
  },
  {
   "cell_type": "code",
   "execution_count": 15,
   "id": "3fe7ace4",
   "metadata": {
    "pycharm": {
     "name": "#%%\n"
    }
   },
   "outputs": [],
   "source": [
    "# Start the webcam feed\n",
    "\n",
    "cap = cv2.VideoCapture(0)\n",
    "while True:\n",
    "    # Find haar cascade to draw bounding box around face\n",
    "    ret, frame = cap.read()\n",
    "    if not ret:\n",
    "        break\n",
    "    bounding_box = cv2.CascadeClassifier('haarcascades_cuda/haarcascade_frontalface_default.xml')\n",
    "    gray_frame = cv2.cvtColor(frame, cv2.COLOR_BGR2GRAY)\n",
    "    num_faces = bounding_box.detectMultiScale(gray_frame,scaleFactor=1.3, minNeighbors=5)\n",
    "\n",
    "    for (x, y, w, h) in num_faces:\n",
    "        cv2.rectangle(frame, (x, y-50), (x+w, y+h+10), (255, 0, 0), 2)\n",
    "        roi_gray_frame = gray_frame[y:y + h, x:x + w]\n",
    "        cropped_img = np.expand_dims(np.expand_dims(cv2.resize(roi_gray_frame, (48, 48)), -1), 0)\n",
    "        facial_prediction = recognition_model.predict(cropped_img)\n",
    "        maxindex = int(np.argmax(facial_prediction))\n",
    "        cv2.putText(frame, facial_dict[maxindex], (x+20, y-60), cv2.FONT_HERSHEY_SIMPLEX, 1, (255, 255, 255), 2, cv2.LINE_AA)\n",
    "\n",
    "    cv2.imshow('Video', cv2.resize(frame,(1200,860),interpolation = cv2.INTER_CUBIC))\n",
    "    if cv2.waitKey(1) & 0xFF == ord('q'):\n",
    "        break\n",
    "\n",
    "cap.release()\n",
    "cv2.destroyAllWindows()"
   ]
  },
  {
   "cell_type": "code",
   "execution_count": null,
   "id": "e46fefac",
   "metadata": {},
   "outputs": [],
   "source": []
  }
 ],
 "metadata": {
  "kernelspec": {
   "display_name": "Python 3 (ipykernel)",
   "language": "python",
   "name": "python3"
  },
  "language_info": {
   "codemirror_mode": {
    "name": "ipython",
    "version": 3
   },
   "file_extension": ".py",
   "mimetype": "text/x-python",
   "name": "python",
   "nbconvert_exporter": "python",
   "pygments_lexer": "ipython3",
   "version": "3.11.5"
  }
 },
 "nbformat": 4,
 "nbformat_minor": 5
}
